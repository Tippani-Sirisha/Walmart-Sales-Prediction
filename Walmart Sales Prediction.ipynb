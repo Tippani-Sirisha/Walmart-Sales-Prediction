{
 "cells": [
  {
   "cell_type": "markdown",
   "metadata": {},
   "source": [
    "# importing libraries"
   ]
  },
  {
   "cell_type": "code",
   "execution_count": 88,
   "metadata": {},
   "outputs": [],
   "source": [
    "import numpy as np\n",
    "import pandas as pd\n",
    "import matplotlib.pyplot as plt\n",
    "import seaborn as sns"
   ]
  },
  {
   "cell_type": "markdown",
   "metadata": {},
   "source": [
    "# importing datasets"
   ]
  },
  {
   "cell_type": "code",
   "execution_count": 89,
   "metadata": {},
   "outputs": [],
   "source": [
    "weather = pd.read_excel(\"weather (1) (1).xlsx\")"
   ]
  },
  {
   "cell_type": "code",
   "execution_count": 90,
   "metadata": {},
   "outputs": [],
   "source": [
    "train = pd.read_csv(\"train.csv\")"
   ]
  },
  {
   "cell_type": "code",
   "execution_count": 91,
   "metadata": {},
   "outputs": [],
   "source": [
    "test = pd.read_csv(\"test.csv\")"
   ]
  },
  {
   "cell_type": "code",
   "execution_count": 92,
   "metadata": {},
   "outputs": [],
   "source": [
    "macro = pd.read_excel(\"macro_economic.xlsx\")"
   ]
  },
  {
   "cell_type": "code",
   "execution_count": 93,
   "metadata": {},
   "outputs": [
    {
     "data": {
      "text/html": [
       "<div>\n",
       "<style scoped>\n",
       "    .dataframe tbody tr th:only-of-type {\n",
       "        vertical-align: middle;\n",
       "    }\n",
       "\n",
       "    .dataframe tbody tr th {\n",
       "        vertical-align: top;\n",
       "    }\n",
       "\n",
       "    .dataframe thead th {\n",
       "        text-align: right;\n",
       "    }\n",
       "</style>\n",
       "<table border=\"1\" class=\"dataframe\">\n",
       "  <thead>\n",
       "    <tr style=\"text-align: right;\">\n",
       "      <th></th>\n",
       "      <th>Year</th>\n",
       "      <th>Month</th>\n",
       "      <th>ProductCategory</th>\n",
       "      <th>Sales(In ThousandDollars)</th>\n",
       "    </tr>\n",
       "  </thead>\n",
       "  <tbody>\n",
       "    <tr>\n",
       "      <td>0</td>\n",
       "      <td>2009</td>\n",
       "      <td>1</td>\n",
       "      <td>WomenClothing</td>\n",
       "      <td>1755.0</td>\n",
       "    </tr>\n",
       "    <tr>\n",
       "      <td>1</td>\n",
       "      <td>2009</td>\n",
       "      <td>1</td>\n",
       "      <td>MenClothing</td>\n",
       "      <td>524.0</td>\n",
       "    </tr>\n",
       "    <tr>\n",
       "      <td>2</td>\n",
       "      <td>2009</td>\n",
       "      <td>1</td>\n",
       "      <td>OtherClothing</td>\n",
       "      <td>936.0</td>\n",
       "    </tr>\n",
       "    <tr>\n",
       "      <td>3</td>\n",
       "      <td>2009</td>\n",
       "      <td>2</td>\n",
       "      <td>WomenClothing</td>\n",
       "      <td>1729.0</td>\n",
       "    </tr>\n",
       "    <tr>\n",
       "      <td>4</td>\n",
       "      <td>2009</td>\n",
       "      <td>2</td>\n",
       "      <td>MenClothing</td>\n",
       "      <td>496.0</td>\n",
       "    </tr>\n",
       "  </tbody>\n",
       "</table>\n",
       "</div>"
      ],
      "text/plain": [
       "   Year  Month ProductCategory  Sales(In ThousandDollars)\n",
       "0  2009      1   WomenClothing                     1755.0\n",
       "1  2009      1     MenClothing                      524.0\n",
       "2  2009      1   OtherClothing                      936.0\n",
       "3  2009      2   WomenClothing                     1729.0\n",
       "4  2009      2     MenClothing                      496.0"
      ]
     },
     "execution_count": 93,
     "metadata": {},
     "output_type": "execute_result"
    }
   ],
   "source": [
    "train.head()"
   ]
  },
  {
   "cell_type": "code",
   "execution_count": 94,
   "metadata": {},
   "outputs": [
    {
     "data": {
      "text/html": [
       "<div>\n",
       "<style scoped>\n",
       "    .dataframe tbody tr th:only-of-type {\n",
       "        vertical-align: middle;\n",
       "    }\n",
       "\n",
       "    .dataframe tbody tr th {\n",
       "        vertical-align: top;\n",
       "    }\n",
       "\n",
       "    .dataframe thead th {\n",
       "        text-align: right;\n",
       "    }\n",
       "</style>\n",
       "<table border=\"1\" class=\"dataframe\">\n",
       "  <thead>\n",
       "    <tr style=\"text-align: right;\">\n",
       "      <th></th>\n",
       "      <th>Year</th>\n",
       "      <th>Month</th>\n",
       "      <th>ProductCategory</th>\n",
       "      <th>Sales(In ThousandDollars)</th>\n",
       "    </tr>\n",
       "  </thead>\n",
       "  <tbody>\n",
       "    <tr>\n",
       "      <td>0</td>\n",
       "      <td>2015</td>\n",
       "      <td>1</td>\n",
       "      <td>WomenClothing</td>\n",
       "      <td>NaN</td>\n",
       "    </tr>\n",
       "    <tr>\n",
       "      <td>1</td>\n",
       "      <td>2015</td>\n",
       "      <td>1</td>\n",
       "      <td>MenClothing</td>\n",
       "      <td>NaN</td>\n",
       "    </tr>\n",
       "    <tr>\n",
       "      <td>2</td>\n",
       "      <td>2015</td>\n",
       "      <td>1</td>\n",
       "      <td>OtherClothing</td>\n",
       "      <td>NaN</td>\n",
       "    </tr>\n",
       "    <tr>\n",
       "      <td>3</td>\n",
       "      <td>2015</td>\n",
       "      <td>2</td>\n",
       "      <td>WomenClothing</td>\n",
       "      <td>NaN</td>\n",
       "    </tr>\n",
       "    <tr>\n",
       "      <td>4</td>\n",
       "      <td>2015</td>\n",
       "      <td>2</td>\n",
       "      <td>MenClothing</td>\n",
       "      <td>NaN</td>\n",
       "    </tr>\n",
       "  </tbody>\n",
       "</table>\n",
       "</div>"
      ],
      "text/plain": [
       "   Year  Month ProductCategory  Sales(In ThousandDollars)\n",
       "0  2015      1   WomenClothing                        NaN\n",
       "1  2015      1     MenClothing                        NaN\n",
       "2  2015      1   OtherClothing                        NaN\n",
       "3  2015      2   WomenClothing                        NaN\n",
       "4  2015      2     MenClothing                        NaN"
      ]
     },
     "execution_count": 94,
     "metadata": {},
     "output_type": "execute_result"
    }
   ],
   "source": [
    "test.head()"
   ]
  },
  {
   "cell_type": "code",
   "execution_count": 95,
   "metadata": {
    "scrolled": false
   },
   "outputs": [
    {
     "data": {
      "text/html": [
       "<div>\n",
       "<style scoped>\n",
       "    .dataframe tbody tr th:only-of-type {\n",
       "        vertical-align: middle;\n",
       "    }\n",
       "\n",
       "    .dataframe tbody tr th {\n",
       "        vertical-align: top;\n",
       "    }\n",
       "\n",
       "    .dataframe thead th {\n",
       "        text-align: right;\n",
       "    }\n",
       "</style>\n",
       "<table border=\"1\" class=\"dataframe\">\n",
       "  <thead>\n",
       "    <tr style=\"text-align: right;\">\n",
       "      <th></th>\n",
       "      <th>Year</th>\n",
       "      <th>Month</th>\n",
       "      <th>Day</th>\n",
       "      <th>Temp high (°C)</th>\n",
       "      <th>Temp avg (°C)</th>\n",
       "      <th>Temp low (°C)</th>\n",
       "      <th>Dew Point high (°C)</th>\n",
       "      <th>Dew Point avg (°C)</th>\n",
       "      <th>Dew Point low (°C)</th>\n",
       "      <th>Humidity (%) high</th>\n",
       "      <th>...</th>\n",
       "      <th>Sea Level Press. (hPa) high</th>\n",
       "      <th>Sea Level Press. (hPa) avg</th>\n",
       "      <th>Sea Level Press. (hPa) low</th>\n",
       "      <th>Visibility (km) high</th>\n",
       "      <th>Visibility (km) avg</th>\n",
       "      <th>Visibility (km) low</th>\n",
       "      <th>Wind (km/h) low</th>\n",
       "      <th>Wind (km/h) avg</th>\n",
       "      <th>Wind (km/h) high</th>\n",
       "      <th>WeatherEvent</th>\n",
       "    </tr>\n",
       "  </thead>\n",
       "  <tbody>\n",
       "    <tr>\n",
       "      <td>0</td>\n",
       "      <td>2009</td>\n",
       "      <td>Jan</td>\n",
       "      <td>1</td>\n",
       "      <td>-3.0</td>\n",
       "      <td>-6.0</td>\n",
       "      <td>-9.0</td>\n",
       "      <td>-16.0</td>\n",
       "      <td>-17.0</td>\n",
       "      <td>-19.0</td>\n",
       "      <td>54.0</td>\n",
       "      <td>...</td>\n",
       "      <td>1025.0</td>\n",
       "      <td>1023.0</td>\n",
       "      <td>1015.0</td>\n",
       "      <td>16.0</td>\n",
       "      <td>16.0</td>\n",
       "      <td>16.0</td>\n",
       "      <td>37.0</td>\n",
       "      <td>18.0</td>\n",
       "      <td>60.0</td>\n",
       "      <td>NaN</td>\n",
       "    </tr>\n",
       "    <tr>\n",
       "      <td>1</td>\n",
       "      <td>2009</td>\n",
       "      <td>Jan</td>\n",
       "      <td>2</td>\n",
       "      <td>1.0</td>\n",
       "      <td>-2.0</td>\n",
       "      <td>-5.0</td>\n",
       "      <td>-3.0</td>\n",
       "      <td>-7.0</td>\n",
       "      <td>-17.0</td>\n",
       "      <td>78.0</td>\n",
       "      <td>...</td>\n",
       "      <td>1022.0</td>\n",
       "      <td>1012.0</td>\n",
       "      <td>1007.0</td>\n",
       "      <td>16.0</td>\n",
       "      <td>13.0</td>\n",
       "      <td>2.0</td>\n",
       "      <td>27.0</td>\n",
       "      <td>10.0</td>\n",
       "      <td>48.0</td>\n",
       "      <td>Snow</td>\n",
       "    </tr>\n",
       "    <tr>\n",
       "      <td>2</td>\n",
       "      <td>2009</td>\n",
       "      <td>Jan</td>\n",
       "      <td>3</td>\n",
       "      <td>3.0</td>\n",
       "      <td>1.0</td>\n",
       "      <td>-2.0</td>\n",
       "      <td>-5.0</td>\n",
       "      <td>-9.0</td>\n",
       "      <td>-13.0</td>\n",
       "      <td>72.0</td>\n",
       "      <td>...</td>\n",
       "      <td>1018.0</td>\n",
       "      <td>1015.0</td>\n",
       "      <td>1008.0</td>\n",
       "      <td>16.0</td>\n",
       "      <td>16.0</td>\n",
       "      <td>16.0</td>\n",
       "      <td>27.0</td>\n",
       "      <td>16.0</td>\n",
       "      <td>42.0</td>\n",
       "      <td>NaN</td>\n",
       "    </tr>\n",
       "    <tr>\n",
       "      <td>3</td>\n",
       "      <td>2009</td>\n",
       "      <td>Jan</td>\n",
       "      <td>4</td>\n",
       "      <td>6.0</td>\n",
       "      <td>1.0</td>\n",
       "      <td>-4.0</td>\n",
       "      <td>-10.0</td>\n",
       "      <td>-12.0</td>\n",
       "      <td>-13.0</td>\n",
       "      <td>55.0</td>\n",
       "      <td>...</td>\n",
       "      <td>1020.0</td>\n",
       "      <td>1017.0</td>\n",
       "      <td>1015.0</td>\n",
       "      <td>16.0</td>\n",
       "      <td>16.0</td>\n",
       "      <td>16.0</td>\n",
       "      <td>32.0</td>\n",
       "      <td>12.0</td>\n",
       "      <td>40.0</td>\n",
       "      <td>NaN</td>\n",
       "    </tr>\n",
       "    <tr>\n",
       "      <td>4</td>\n",
       "      <td>2009</td>\n",
       "      <td>Jan</td>\n",
       "      <td>5</td>\n",
       "      <td>6.0</td>\n",
       "      <td>5.0</td>\n",
       "      <td>3.0</td>\n",
       "      <td>-1.0</td>\n",
       "      <td>-5.0</td>\n",
       "      <td>-16.0</td>\n",
       "      <td>62.0</td>\n",
       "      <td>...</td>\n",
       "      <td>1016.0</td>\n",
       "      <td>1014.0</td>\n",
       "      <td>1013.0</td>\n",
       "      <td>16.0</td>\n",
       "      <td>16.0</td>\n",
       "      <td>16.0</td>\n",
       "      <td>23.0</td>\n",
       "      <td>11.0</td>\n",
       "      <td>34.0</td>\n",
       "      <td>NaN</td>\n",
       "    </tr>\n",
       "  </tbody>\n",
       "</table>\n",
       "<p>5 rows × 22 columns</p>\n",
       "</div>"
      ],
      "text/plain": [
       "   Year Month  Day  Temp high (°C)  Temp avg (°C)  Temp low (°C)  \\\n",
       "0  2009   Jan    1            -3.0           -6.0           -9.0   \n",
       "1  2009   Jan    2             1.0           -2.0           -5.0   \n",
       "2  2009   Jan    3             3.0            1.0           -2.0   \n",
       "3  2009   Jan    4             6.0            1.0           -4.0   \n",
       "4  2009   Jan    5             6.0            5.0            3.0   \n",
       "\n",
       "   Dew Point high (°C)  Dew Point avg (°C)  Dew Point low (°C)  \\\n",
       "0                -16.0               -17.0               -19.0   \n",
       "1                 -3.0                -7.0               -17.0   \n",
       "2                 -5.0                -9.0               -13.0   \n",
       "3                -10.0               -12.0               -13.0   \n",
       "4                 -1.0                -5.0               -16.0   \n",
       "\n",
       "   Humidity (%) high  ...  Sea Level Press. (hPa) high  \\\n",
       "0               54.0  ...                       1025.0   \n",
       "1               78.0  ...                       1022.0   \n",
       "2               72.0  ...                       1018.0   \n",
       "3               55.0  ...                       1020.0   \n",
       "4               62.0  ...                       1016.0   \n",
       "\n",
       "   Sea Level Press. (hPa) avg  Sea Level Press. (hPa) low  \\\n",
       "0                      1023.0                      1015.0   \n",
       "1                      1012.0                      1007.0   \n",
       "2                      1015.0                      1008.0   \n",
       "3                      1017.0                      1015.0   \n",
       "4                      1014.0                      1013.0   \n",
       "\n",
       "   Visibility (km) high  Visibility (km) avg  Visibility (km) low  \\\n",
       "0                  16.0                 16.0                 16.0   \n",
       "1                  16.0                 13.0                  2.0   \n",
       "2                  16.0                 16.0                 16.0   \n",
       "3                  16.0                 16.0                 16.0   \n",
       "4                  16.0                 16.0                 16.0   \n",
       "\n",
       "   Wind (km/h) low  Wind (km/h) avg  Wind (km/h) high  WeatherEvent  \n",
       "0             37.0             18.0              60.0           NaN  \n",
       "1             27.0             10.0              48.0          Snow  \n",
       "2             27.0             16.0              42.0           NaN  \n",
       "3             32.0             12.0              40.0           NaN  \n",
       "4             23.0             11.0              34.0           NaN  \n",
       "\n",
       "[5 rows x 22 columns]"
      ]
     },
     "execution_count": 95,
     "metadata": {},
     "output_type": "execute_result"
    }
   ],
   "source": [
    "weather.head()"
   ]
  },
  {
   "cell_type": "code",
   "execution_count": 96,
   "metadata": {},
   "outputs": [
    {
     "data": {
      "text/plain": [
       "Year                          0\n",
       "Month                         0\n",
       "ProductCategory               0\n",
       "Sales(In ThousandDollars)    12\n",
       "dtype: int64"
      ]
     },
     "execution_count": 96,
     "metadata": {},
     "output_type": "execute_result"
    }
   ],
   "source": [
    "train.isnull().sum()"
   ]
  },
  {
   "cell_type": "code",
   "execution_count": 97,
   "metadata": {},
   "outputs": [
    {
     "data": {
      "text/plain": [
       "Year                          0\n",
       "Month                         0\n",
       "ProductCategory               0\n",
       "Sales(In ThousandDollars)    36\n",
       "dtype: int64"
      ]
     },
     "execution_count": 97,
     "metadata": {},
     "output_type": "execute_result"
    }
   ],
   "source": [
    "test.isnull().sum()"
   ]
  },
  {
   "cell_type": "code",
   "execution_count": 98,
   "metadata": {},
   "outputs": [
    {
     "data": {
      "text/plain": [
       "Year                              0\n",
       "Month                             0\n",
       "Day                               0\n",
       "Temp high (°C)                    2\n",
       "Temp avg (°C)                     2\n",
       "Temp low (°C)                     2\n",
       "Dew Point high (°C)               2\n",
       "Dew Point avg (°C)                2\n",
       "Dew Point low (°C)                2\n",
       "Humidity (%) high                 2\n",
       "Humidity (%) avg                  2\n",
       "Humidity (%) low                  2\n",
       "Sea Level Press. (hPa) high      19\n",
       "Sea Level Press. (hPa) avg       19\n",
       "Sea Level Press. (hPa) low       19\n",
       "Visibility (km) high             28\n",
       "Visibility (km) avg              28\n",
       "Visibility (km) low              28\n",
       "Wind (km/h) low                  20\n",
       "Wind (km/h) avg                  20\n",
       "Wind (km/h) high                 59\n",
       "WeatherEvent                   1907\n",
       "dtype: int64"
      ]
     },
     "execution_count": 98,
     "metadata": {},
     "output_type": "execute_result"
    }
   ],
   "source": [
    "weather.isnull().sum()"
   ]
  },
  {
   "cell_type": "code",
   "execution_count": 99,
   "metadata": {},
   "outputs": [
    {
     "data": {
      "text/plain": [
       "Index(['Year', 'Month', 'Day', 'Temp high (°C)', 'Temp avg (°C)',\n",
       "       'Temp low (°C)', 'Dew Point high (°C)', 'Dew Point avg (°C)',\n",
       "       'Dew Point low (°C)', 'Humidity (%) high', 'Humidity (%) avg',\n",
       "       'Humidity (%) low', 'Sea Level Press. (hPa) high',\n",
       "       'Sea Level Press. (hPa) avg', 'Sea Level Press. (hPa) low',\n",
       "       'Visibility (km) high', 'Visibility (km) avg', 'Visibility (km) low',\n",
       "       'Wind (km/h) low', 'Wind (km/h) avg', 'Wind (km/h) high',\n",
       "       'WeatherEvent'],\n",
       "      dtype='object')"
      ]
     },
     "execution_count": 99,
     "metadata": {},
     "output_type": "execute_result"
    }
   ],
   "source": [
    "weather.columns"
   ]
  },
  {
   "cell_type": "code",
   "execution_count": 100,
   "metadata": {},
   "outputs": [],
   "source": [
    "weather.drop(\"WeatherEvent\",axis = 1,inplace = True)"
   ]
  },
  {
   "cell_type": "code",
   "execution_count": 101,
   "metadata": {},
   "outputs": [],
   "source": [
    "weather[\"Month\"] =weather[\"Month\"].str.replace(\"Jan\",\"1\")\n",
    "weather[\"Month\"] =weather[\"Month\"].str.replace(\"Feb\",\"2\")\n",
    "weather[\"Month\"]=weather[\"Month\"].str.replace(\"Mar\",\"3\")\n",
    "weather[\"Month\"]=weather[\"Month\"].str.replace(\"Apr\",\"4\")\n",
    "weather[\"Month\"]=weather[\"Month\"].str.replace(\"May\",\"5\")\n",
    "weather[\"Month\"]=weather[\"Month\"].str.replace(\"Jun\",\"6\")\n",
    "weather[\"Month\"]=weather[\"Month\"].str.replace(\"Jul\",\"7\")\n",
    "weather[\"Month\"]=weather[\"Month\"].str.replace(\"Aug\",\"8\")\n",
    "weather[\"Month\"]=weather[\"Month\"].str.replace(\"Sep\",\"9\")\n",
    "weather[\"Month\"]=weather[\"Month\"].str.replace(\"Oct\",\"10\")\n",
    "weather[\"Month\"]=weather[\"Month\"].str.replace(\"Nov\",\"11\")\n",
    "weather[\"Month\"]=weather[\"Month\"].str.replace(\"Dec\",\"12\")\n"
   ]
  },
  {
   "cell_type": "code",
   "execution_count": 102,
   "metadata": {},
   "outputs": [],
   "source": [
    "weather[\"Month\"] =pd.to_numeric(weather[\"Month\"])"
   ]
  },
  {
   "cell_type": "code",
   "execution_count": 103,
   "metadata": {},
   "outputs": [
    {
     "data": {
      "text/plain": [
       "2016    366\n",
       "2012    366\n",
       "2015    365\n",
       "2013    365\n",
       "2011    365\n",
       "2009    365\n",
       "2010    365\n",
       "2014    364\n",
       "Name: Year, dtype: int64"
      ]
     },
     "execution_count": 103,
     "metadata": {},
     "output_type": "execute_result"
    }
   ],
   "source": [
    "weather[\"Year\"].value_counts()"
   ]
  },
  {
   "cell_type": "code",
   "execution_count": 104,
   "metadata": {},
   "outputs": [],
   "source": [
    "y1 = weather[weather[\"Year\"]== 2009]\n",
    "y1_V = y1.groupby(\"Month\", as_index=False).agg(\"mean\")\n",
    "y2 = weather[weather[\"Year\"]== 2010]\n",
    "y2_V = y2.groupby(\"Month\", as_index=False).agg(\"mean\")\n",
    "y3 = weather[weather[\"Year\"]== 2011]\n",
    "y3_V = y3.groupby(\"Month\", as_index=False).agg(\"mean\")\n",
    "y4 = weather[weather[\"Year\"]== 2012]\n",
    "y4_V = y4.groupby(\"Month\", as_index=False).agg(\"mean\")\n",
    "y5 = weather[weather[\"Year\"]== 2013]\n",
    "y5_V = y5.groupby(\"Month\", as_index=False).agg(\"mean\")\n",
    "y6 = weather[weather[\"Year\"]== 2014]\n",
    "y6_V = y6.groupby(\"Month\", as_index=False).agg(\"mean\")\n",
    "y7 = weather[weather[\"Year\"]== 2015]\n",
    "y7_V = y7.groupby(\"Month\", as_index=False).agg(\"mean\")\n",
    "y8 = weather[weather[\"Year\"]== 2016]\n",
    "y8_V = y8.groupby(\"Month\", as_index=False).agg(\"mean\")"
   ]
  },
  {
   "cell_type": "code",
   "execution_count": 105,
   "metadata": {},
   "outputs": [],
   "source": [
    "weather = pd.concat([y1_V,y2_V,y3_V,y4_V,y5_V,y6_V,y7_V,y8_V])"
   ]
  },
  {
   "cell_type": "code",
   "execution_count": 106,
   "metadata": {},
   "outputs": [],
   "source": [
    "weather.drop(\"Day\",axis = 1, inplace = True)"
   ]
  },
  {
   "cell_type": "code",
   "execution_count": 107,
   "metadata": {
    "scrolled": false
   },
   "outputs": [
    {
     "name": "stdout",
     "output_type": "stream",
     "text": [
      "<class 'pandas.core.frame.DataFrame'>\n",
      "Int64Index: 96 entries, 0 to 11\n",
      "Data columns (total 20 columns):\n",
      "Month                          96 non-null int64\n",
      "Year                           96 non-null float64\n",
      "Temp high (°C)                 96 non-null float64\n",
      "Temp avg (°C)                  96 non-null float64\n",
      "Temp low (°C)                  96 non-null float64\n",
      "Dew Point high (°C)            96 non-null float64\n",
      "Dew Point avg (°C)             96 non-null float64\n",
      "Dew Point low (°C)             96 non-null float64\n",
      "Humidity (%) high              96 non-null float64\n",
      "Humidity (%) avg               96 non-null float64\n",
      "Humidity (%) low               96 non-null float64\n",
      "Sea Level Press. (hPa) high    96 non-null float64\n",
      "Sea Level Press. (hPa) avg     96 non-null float64\n",
      "Sea Level Press. (hPa) low     96 non-null float64\n",
      "Visibility (km) high           96 non-null float64\n",
      "Visibility (km) avg            96 non-null float64\n",
      "Visibility (km) low            96 non-null float64\n",
      "Wind (km/h) low                96 non-null float64\n",
      "Wind (km/h) avg                96 non-null float64\n",
      "Wind (km/h) high               96 non-null float64\n",
      "dtypes: float64(19), int64(1)\n",
      "memory usage: 15.8 KB\n"
     ]
    }
   ],
   "source": [
    "weather.info()"
   ]
  },
  {
   "cell_type": "code",
   "execution_count": 108,
   "metadata": {},
   "outputs": [],
   "source": [
    "weather[\"Year\"] =weather[\"Year\"].astype(int)"
   ]
  },
  {
   "cell_type": "code",
   "execution_count": 109,
   "metadata": {},
   "outputs": [],
   "source": [
    "weather.dropna(axis = 0, inplace = True)"
   ]
  },
  {
   "cell_type": "code",
   "execution_count": 110,
   "metadata": {},
   "outputs": [
    {
     "data": {
      "text/plain": [
       "0"
      ]
     },
     "execution_count": 110,
     "metadata": {},
     "output_type": "execute_result"
    }
   ],
   "source": [
    "weather.isnull().sum().sum()"
   ]
  },
  {
   "cell_type": "code",
   "execution_count": 111,
   "metadata": {},
   "outputs": [],
   "source": [
    "train[\"data\"]= \"train\"\n",
    "test[\"data\"] = \"test\""
   ]
  },
  {
   "cell_type": "code",
   "execution_count": 112,
   "metadata": {},
   "outputs": [
    {
     "data": {
      "text/plain": [
       "train    216\n",
       "test      36\n",
       "Name: data, dtype: int64"
      ]
     },
     "execution_count": 112,
     "metadata": {},
     "output_type": "execute_result"
    }
   ],
   "source": [
    "tt = pd.concat([train,test])\n",
    "tt[\"data\"].value_counts()"
   ]
  },
  {
   "cell_type": "code",
   "execution_count": 113,
   "metadata": {},
   "outputs": [],
   "source": [
    "macro = macro.join(macro[\"Year-Month\"].str.split(\"-\",expand = True).rename(columns={0:\"Year\",1:\"Month\"}))"
   ]
  },
  {
   "cell_type": "code",
   "execution_count": 114,
   "metadata": {},
   "outputs": [],
   "source": [
    "\n",
    "macro = macro.drop(\"Year-Month\", axis = 1)"
   ]
  },
  {
   "cell_type": "code",
   "execution_count": 115,
   "metadata": {},
   "outputs": [],
   "source": [
    "macro[\"Month\"] =macro[\"Month\"].str.replace(\"Jan\",\"1\")\n",
    "macro[\"Month\"] =macro[\"Month\"].str.replace(\"Feb\",\"2\")\n",
    "macro[\"Month\"]=macro[\"Month\"].str.replace(\"Mar\",\"3\")\n",
    "macro[\"Month\"]=macro[\"Month\"].str.replace(\"Apr\",\"4\")\n",
    "macro[\"Month\"]=macro[\"Month\"].str.replace(\"May\",\"5\")\n",
    "macro[\"Month\"]=macro[\"Month\"].str.replace(\"Jun\",\"6\")\n",
    "macro[\"Month\"]=macro[\"Month\"].str.replace(\"Jul\",\"7\")\n",
    "macro[\"Month\"]=macro[\"Month\"].str.replace(\"Aug\",\"8\")\n",
    "macro[\"Month\"]=macro[\"Month\"].str.replace(\"Sep\",\"9\")\n",
    "macro[\"Month\"]=macro[\"Month\"].str.replace(\"Oct\",\"10\")\n",
    "macro[\"Month\"]=macro[\"Month\"].str.replace(\"Nov\",\"11\")\n",
    "macro[\"Month\"]=macro[\"Month\"].str.replace(\"Dec\",\"12\")\n"
   ]
  },
  {
   "cell_type": "code",
   "execution_count": 116,
   "metadata": {},
   "outputs": [],
   "source": [
    "\n",
    "\n",
    "\n",
    "macro[\"Month\"] =pd.to_numeric(macro[\"Month\"])\n",
    "\n",
    "macro[\"Year\"] =pd.to_numeric(macro[\"Year\"])\n",
    "\n"
   ]
  },
  {
   "cell_type": "code",
   "execution_count": 117,
   "metadata": {},
   "outputs": [
    {
     "name": "stdout",
     "output_type": "stream",
     "text": [
      "<class 'pandas.core.frame.DataFrame'>\n",
      "RangeIndex: 96 entries, 0 to 95\n",
      "Data columns (total 20 columns):\n",
      "Monthly Nominal GDP Index (inMillion$)                               96 non-null float64\n",
      "Monthly Real GDP Index (inMillion$)                                  96 non-null float64\n",
      "CPI                                                                  96 non-null float64\n",
      "PartyInPower                                                         96 non-null object\n",
      "unemployment rate                                                    96 non-null float64\n",
      "CommercialBankInterestRateonCreditCardPlans                          96 non-null float64\n",
      "Finance Rate on Personal Loans at Commercial Banks, 24 Month Loan    96 non-null float64\n",
      "Earnings or wages  in dollars per hour                               96 non-null float64\n",
      "AdvertisingExpenses (in Thousand Dollars)                            96 non-null object\n",
      "Cotton Monthly Price - US cents per Pound(lbs)                       96 non-null float64\n",
      "Change(in%)                                                          96 non-null float64\n",
      "Average upland planted(million acres)                                96 non-null float64\n",
      "Average upland harvested(million acres)                              96 non-null float64\n",
      "yieldperharvested acre                                               96 non-null int64\n",
      "Production (in  480-lb netweright in million bales)                  96 non-null float64\n",
      "Mill use  (in  480-lb netweright in million bales)                   96 non-null float64\n",
      "Exports                                                              96 non-null float64\n",
      "Unnamed: 18                                                          0 non-null float64\n",
      "Year                                                                 96 non-null int64\n",
      "Month                                                                96 non-null int64\n",
      "dtypes: float64(15), int64(3), object(2)\n",
      "memory usage: 15.1+ KB\n"
     ]
    }
   ],
   "source": [
    "macro.info()"
   ]
  },
  {
   "cell_type": "code",
   "execution_count": 118,
   "metadata": {},
   "outputs": [],
   "source": [
    "wt = pd.merge(weather,tt, on=[\"Year\",\"Month\"], how=\"inner\")"
   ]
  },
  {
   "cell_type": "code",
   "execution_count": 122,
   "metadata": {},
   "outputs": [],
   "source": [
    "wt =pd.get_dummies(data = wt, columns = [\"Month\",\"ProductCategory\"],drop_first = \"True\")"
   ]
  },
  {
   "cell_type": "code",
   "execution_count": 119,
   "metadata": {},
   "outputs": [
    {
     "data": {
      "text/plain": [
       "(252, 23)"
      ]
     },
     "execution_count": 119,
     "metadata": {},
     "output_type": "execute_result"
    }
   ],
   "source": [
    "wt.shape"
   ]
  },
  {
   "cell_type": "code",
   "execution_count": 120,
   "metadata": {},
   "outputs": [],
   "source": [
    "wtm = pd.merge(wt,macro, on=[\"Year\",\"Month\"], how=\"inner\")"
   ]
  },
  {
   "cell_type": "code",
   "execution_count": 121,
   "metadata": {
    "scrolled": false
   },
   "outputs": [
    {
     "name": "stdout",
     "output_type": "stream",
     "text": [
      "<class 'pandas.core.frame.DataFrame'>\n",
      "Int64Index: 252 entries, 0 to 251\n",
      "Data columns (total 41 columns):\n",
      "Month                                                                252 non-null int64\n",
      "Year                                                                 252 non-null int32\n",
      "Temp high (°C)                                                       252 non-null float64\n",
      "Temp avg (°C)                                                        252 non-null float64\n",
      "Temp low (°C)                                                        252 non-null float64\n",
      "Dew Point high (°C)                                                  252 non-null float64\n",
      "Dew Point avg (°C)                                                   252 non-null float64\n",
      "Dew Point low (°C)                                                   252 non-null float64\n",
      "Humidity (%) high                                                    252 non-null float64\n",
      "Humidity (%) avg                                                     252 non-null float64\n",
      "Humidity (%) low                                                     252 non-null float64\n",
      "Sea Level Press. (hPa) high                                          252 non-null float64\n",
      "Sea Level Press. (hPa) avg                                           252 non-null float64\n",
      "Sea Level Press. (hPa) low                                           252 non-null float64\n",
      "Visibility (km) high                                                 252 non-null float64\n",
      "Visibility (km) avg                                                  252 non-null float64\n",
      "Visibility (km) low                                                  252 non-null float64\n",
      "Wind (km/h) low                                                      252 non-null float64\n",
      "Wind (km/h) avg                                                      252 non-null float64\n",
      "Wind (km/h) high                                                     252 non-null float64\n",
      "ProductCategory                                                      252 non-null object\n",
      "Sales(In ThousandDollars)                                            204 non-null float64\n",
      "data                                                                 252 non-null object\n",
      "Monthly Nominal GDP Index (inMillion$)                               252 non-null float64\n",
      "Monthly Real GDP Index (inMillion$)                                  252 non-null float64\n",
      "CPI                                                                  252 non-null float64\n",
      "PartyInPower                                                         252 non-null object\n",
      "unemployment rate                                                    252 non-null float64\n",
      "CommercialBankInterestRateonCreditCardPlans                          252 non-null float64\n",
      "Finance Rate on Personal Loans at Commercial Banks, 24 Month Loan    252 non-null float64\n",
      "Earnings or wages  in dollars per hour                               252 non-null float64\n",
      "AdvertisingExpenses (in Thousand Dollars)                            252 non-null object\n",
      "Cotton Monthly Price - US cents per Pound(lbs)                       252 non-null float64\n",
      "Change(in%)                                                          252 non-null float64\n",
      "Average upland planted(million acres)                                252 non-null float64\n",
      "Average upland harvested(million acres)                              252 non-null float64\n",
      "yieldperharvested acre                                               252 non-null int64\n",
      "Production (in  480-lb netweright in million bales)                  252 non-null float64\n",
      "Mill use  (in  480-lb netweright in million bales)                   252 non-null float64\n",
      "Exports                                                              252 non-null float64\n",
      "Unnamed: 18                                                          0 non-null float64\n",
      "dtypes: float64(34), int32(1), int64(2), object(4)\n",
      "memory usage: 81.7+ KB\n"
     ]
    }
   ],
   "source": [
    "wtm.info()"
   ]
  },
  {
   "cell_type": "code",
   "execution_count": 738,
   "metadata": {},
   "outputs": [],
   "source": [
    "#wtm.drop(\"ProductCategory\", axis = 1, inplace = True)"
   ]
  },
  {
   "cell_type": "code",
   "execution_count": 123,
   "metadata": {},
   "outputs": [],
   "source": [
    "wtm.drop(\"AdvertisingExpenses (in Thousand Dollars)\", axis = 1, inplace = True)"
   ]
  },
  {
   "cell_type": "code",
   "execution_count": 124,
   "metadata": {},
   "outputs": [],
   "source": [
    "wtm.drop(\"PartyInPower\", axis = 1, inplace = True)"
   ]
  },
  {
   "cell_type": "code",
   "execution_count": 125,
   "metadata": {},
   "outputs": [],
   "source": [
    "wtm =pd.get_dummies(data = wtm, columns = [\"Month\",\"ProductCategory\"])"
   ]
  },
  {
   "cell_type": "code",
   "execution_count": 126,
   "metadata": {},
   "outputs": [
    {
     "data": {
      "text/plain": [
       "(252, 52)"
      ]
     },
     "execution_count": 126,
     "metadata": {},
     "output_type": "execute_result"
    }
   ],
   "source": [
    "wtm.shape"
   ]
  },
  {
   "cell_type": "code",
   "execution_count": 127,
   "metadata": {},
   "outputs": [
    {
     "name": "stdout",
     "output_type": "stream",
     "text": [
      "<class 'pandas.core.frame.DataFrame'>\n",
      "Int64Index: 252 entries, 0 to 251\n",
      "Data columns (total 52 columns):\n",
      "Year                                                                 252 non-null int32\n",
      "Temp high (°C)                                                       252 non-null float64\n",
      "Temp avg (°C)                                                        252 non-null float64\n",
      "Temp low (°C)                                                        252 non-null float64\n",
      "Dew Point high (°C)                                                  252 non-null float64\n",
      "Dew Point avg (°C)                                                   252 non-null float64\n",
      "Dew Point low (°C)                                                   252 non-null float64\n",
      "Humidity (%) high                                                    252 non-null float64\n",
      "Humidity (%) avg                                                     252 non-null float64\n",
      "Humidity (%) low                                                     252 non-null float64\n",
      "Sea Level Press. (hPa) high                                          252 non-null float64\n",
      "Sea Level Press. (hPa) avg                                           252 non-null float64\n",
      "Sea Level Press. (hPa) low                                           252 non-null float64\n",
      "Visibility (km) high                                                 252 non-null float64\n",
      "Visibility (km) avg                                                  252 non-null float64\n",
      "Visibility (km) low                                                  252 non-null float64\n",
      "Wind (km/h) low                                                      252 non-null float64\n",
      "Wind (km/h) avg                                                      252 non-null float64\n",
      "Wind (km/h) high                                                     252 non-null float64\n",
      "Sales(In ThousandDollars)                                            204 non-null float64\n",
      "data                                                                 252 non-null object\n",
      "Monthly Nominal GDP Index (inMillion$)                               252 non-null float64\n",
      "Monthly Real GDP Index (inMillion$)                                  252 non-null float64\n",
      "CPI                                                                  252 non-null float64\n",
      "unemployment rate                                                    252 non-null float64\n",
      "CommercialBankInterestRateonCreditCardPlans                          252 non-null float64\n",
      "Finance Rate on Personal Loans at Commercial Banks, 24 Month Loan    252 non-null float64\n",
      "Earnings or wages  in dollars per hour                               252 non-null float64\n",
      "Cotton Monthly Price - US cents per Pound(lbs)                       252 non-null float64\n",
      "Change(in%)                                                          252 non-null float64\n",
      "Average upland planted(million acres)                                252 non-null float64\n",
      "Average upland harvested(million acres)                              252 non-null float64\n",
      "yieldperharvested acre                                               252 non-null int64\n",
      "Production (in  480-lb netweright in million bales)                  252 non-null float64\n",
      "Mill use  (in  480-lb netweright in million bales)                   252 non-null float64\n",
      "Exports                                                              252 non-null float64\n",
      "Unnamed: 18                                                          0 non-null float64\n",
      "Month_1                                                              252 non-null uint8\n",
      "Month_2                                                              252 non-null uint8\n",
      "Month_3                                                              252 non-null uint8\n",
      "Month_4                                                              252 non-null uint8\n",
      "Month_5                                                              252 non-null uint8\n",
      "Month_6                                                              252 non-null uint8\n",
      "Month_7                                                              252 non-null uint8\n",
      "Month_8                                                              252 non-null uint8\n",
      "Month_9                                                              252 non-null uint8\n",
      "Month_10                                                             252 non-null uint8\n",
      "Month_11                                                             252 non-null uint8\n",
      "Month_12                                                             252 non-null uint8\n",
      "ProductCategory_MenClothing                                          252 non-null uint8\n",
      "ProductCategory_OtherClothing                                        252 non-null uint8\n",
      "ProductCategory_WomenClothing                                        252 non-null uint8\n",
      "dtypes: float64(34), int32(1), int64(1), object(1), uint8(15)\n",
      "memory usage: 77.5+ KB\n"
     ]
    }
   ],
   "source": [
    "wtm.info()"
   ]
  },
  {
   "cell_type": "code",
   "execution_count": 128,
   "metadata": {},
   "outputs": [],
   "source": [
    "wtm.drop(\"Unnamed: 18\",axis = 1,inplace = True)"
   ]
  },
  {
   "cell_type": "code",
   "execution_count": 129,
   "metadata": {},
   "outputs": [
    {
     "name": "stdout",
     "output_type": "stream",
     "text": [
      "<class 'pandas.core.frame.DataFrame'>\n",
      "Int64Index: 252 entries, 0 to 251\n",
      "Data columns (total 34 columns):\n",
      "Year                             252 non-null int32\n",
      "Temp high (°C)                   252 non-null float64\n",
      "Temp avg (°C)                    252 non-null float64\n",
      "Temp low (°C)                    252 non-null float64\n",
      "Dew Point high (°C)              252 non-null float64\n",
      "Dew Point avg (°C)               252 non-null float64\n",
      "Dew Point low (°C)               252 non-null float64\n",
      "Humidity (%) high                252 non-null float64\n",
      "Humidity (%) avg                 252 non-null float64\n",
      "Humidity (%) low                 252 non-null float64\n",
      "Sea Level Press. (hPa) high      252 non-null float64\n",
      "Sea Level Press. (hPa) avg       252 non-null float64\n",
      "Sea Level Press. (hPa) low       252 non-null float64\n",
      "Visibility (km) high             252 non-null float64\n",
      "Visibility (km) avg              252 non-null float64\n",
      "Visibility (km) low              252 non-null float64\n",
      "Wind (km/h) low                  252 non-null float64\n",
      "Wind (km/h) avg                  252 non-null float64\n",
      "Wind (km/h) high                 252 non-null float64\n",
      "Sales(In ThousandDollars)        204 non-null float64\n",
      "data                             252 non-null object\n",
      "Month_2                          252 non-null uint8\n",
      "Month_3                          252 non-null uint8\n",
      "Month_4                          252 non-null uint8\n",
      "Month_5                          252 non-null uint8\n",
      "Month_6                          252 non-null uint8\n",
      "Month_7                          252 non-null uint8\n",
      "Month_8                          252 non-null uint8\n",
      "Month_9                          252 non-null uint8\n",
      "Month_10                         252 non-null uint8\n",
      "Month_11                         252 non-null uint8\n",
      "Month_12                         252 non-null uint8\n",
      "ProductCategory_OtherClothing    252 non-null uint8\n",
      "ProductCategory_WomenClothing    252 non-null uint8\n",
      "dtypes: float64(19), int32(1), object(1), uint8(13)\n",
      "memory usage: 45.5+ KB\n"
     ]
    }
   ],
   "source": [
    "wt.info()"
   ]
  },
  {
   "cell_type": "code",
   "execution_count": 130,
   "metadata": {},
   "outputs": [
    {
     "data": {
      "text/plain": [
       "(252, 34)"
      ]
     },
     "execution_count": 130,
     "metadata": {},
     "output_type": "execute_result"
    }
   ],
   "source": [
    "wt.shape"
   ]
  },
  {
   "cell_type": "code",
   "execution_count": 131,
   "metadata": {},
   "outputs": [
    {
     "data": {
      "text/plain": [
       "(252, 51)"
      ]
     },
     "execution_count": 131,
     "metadata": {},
     "output_type": "execute_result"
    }
   ],
   "source": [
    "wtm.shape"
   ]
  },
  {
   "cell_type": "code",
   "execution_count": 132,
   "metadata": {},
   "outputs": [],
   "source": [
    "from sklearn.decomposition import PCA"
   ]
  },
  {
   "cell_type": "code",
   "execution_count": 133,
   "metadata": {},
   "outputs": [],
   "source": [
    "train_wtm = wtm[wtm[\"data\"]== \"train\"]\n",
    "test_wtm = wtm[wtm[\"data\"]== \"test\"]"
   ]
  },
  {
   "cell_type": "code",
   "execution_count": 134,
   "metadata": {},
   "outputs": [],
   "source": [
    "train_wt = wt[wt[\"data\"]== \"train\"]\n",
    "test_wt = wt[wt[\"data\"]== \"test\"]"
   ]
  },
  {
   "cell_type": "code",
   "execution_count": 135,
   "metadata": {},
   "outputs": [
    {
     "name": "stderr",
     "output_type": "stream",
     "text": [
      "C:\\Users\\user\\Anaconda3\\lib\\site-packages\\pandas\\core\\frame.py:4102: SettingWithCopyWarning: \n",
      "A value is trying to be set on a copy of a slice from a DataFrame\n",
      "\n",
      "See the caveats in the documentation: http://pandas.pydata.org/pandas-docs/stable/user_guide/indexing.html#returning-a-view-versus-a-copy\n",
      "  errors=errors,\n"
     ]
    }
   ],
   "source": [
    "test_wt.drop([\"data\",\"Sales(In ThousandDollars)\"], axis = 1, inplace = True)"
   ]
  },
  {
   "cell_type": "code",
   "execution_count": 136,
   "metadata": {},
   "outputs": [
    {
     "name": "stderr",
     "output_type": "stream",
     "text": [
      "C:\\Users\\user\\Anaconda3\\lib\\site-packages\\ipykernel_launcher.py:1: SettingWithCopyWarning: \n",
      "A value is trying to be set on a copy of a slice from a DataFrame\n",
      "\n",
      "See the caveats in the documentation: http://pandas.pydata.org/pandas-docs/stable/user_guide/indexing.html#returning-a-view-versus-a-copy\n",
      "  \"\"\"Entry point for launching an IPython kernel.\n"
     ]
    }
   ],
   "source": [
    "train_wt.dropna(axis = 0,inplace = True)"
   ]
  },
  {
   "cell_type": "code",
   "execution_count": 137,
   "metadata": {},
   "outputs": [
    {
     "name": "stderr",
     "output_type": "stream",
     "text": [
      "C:\\Users\\user\\Anaconda3\\lib\\site-packages\\ipykernel_launcher.py:1: SettingWithCopyWarning: \n",
      "A value is trying to be set on a copy of a slice from a DataFrame\n",
      "\n",
      "See the caveats in the documentation: http://pandas.pydata.org/pandas-docs/stable/user_guide/indexing.html#returning-a-view-versus-a-copy\n",
      "  \"\"\"Entry point for launching an IPython kernel.\n"
     ]
    }
   ],
   "source": [
    "train_wtm.dropna(axis = 0,inplace = True)"
   ]
  },
  {
   "cell_type": "code",
   "execution_count": 138,
   "metadata": {},
   "outputs": [],
   "source": [
    "test_wtm.drop([\"data\",\"Sales(In ThousandDollars)\"], axis = 1, inplace = True)"
   ]
  },
  {
   "cell_type": "code",
   "execution_count": 139,
   "metadata": {},
   "outputs": [],
   "source": [
    "train_wt.drop([\"data\"], axis = 1, inplace = True)\n"
   ]
  },
  {
   "cell_type": "code",
   "execution_count": 140,
   "metadata": {},
   "outputs": [],
   "source": [
    "train_wtm.drop([\"data\"], axis = 1, inplace = True)"
   ]
  },
  {
   "cell_type": "code",
   "execution_count": 141,
   "metadata": {},
   "outputs": [],
   "source": [
    "x_wt = train_wt.drop(\"Sales(In ThousandDollars)\", axis = 1)"
   ]
  },
  {
   "cell_type": "code",
   "execution_count": 142,
   "metadata": {},
   "outputs": [],
   "source": [
    "y_wt = train_wt[\"Sales(In ThousandDollars)\"]"
   ]
  },
  {
   "cell_type": "code",
   "execution_count": 143,
   "metadata": {},
   "outputs": [],
   "source": [
    "x_wtm = train_wtm.drop(\"Sales(In ThousandDollars)\", axis = 1)"
   ]
  },
  {
   "cell_type": "code",
   "execution_count": 144,
   "metadata": {},
   "outputs": [],
   "source": [
    "y_wtm = train_wtm[\"Sales(In ThousandDollars)\"]"
   ]
  },
  {
   "cell_type": "code",
   "execution_count": 145,
   "metadata": {},
   "outputs": [],
   "source": [
    "from sklearn.model_selection import train_test_split"
   ]
  },
  {
   "cell_type": "code",
   "execution_count": 146,
   "metadata": {},
   "outputs": [],
   "source": [
    "xtrain_wt,xtest_wt,ytrain_wt,ytest_wt = train_test_split(x_wt,y_wt, test_size = 0.3, random_state=3)"
   ]
  },
  {
   "cell_type": "code",
   "execution_count": 147,
   "metadata": {},
   "outputs": [],
   "source": [
    "xtrain_wtm,xtest_wtm,ytrain_wtm,ytest_wtm = train_test_split(x_wtm,y_wtm, test_size = 0.3, random_state=3)"
   ]
  },
  {
   "cell_type": "markdown",
   "metadata": {},
   "source": [
    "# Linear Regression before scaling"
   ]
  },
  {
   "cell_type": "code",
   "execution_count": 148,
   "metadata": {},
   "outputs": [],
   "source": [
    "from sklearn.linear_model import LinearRegression"
   ]
  },
  {
   "cell_type": "code",
   "execution_count": 149,
   "metadata": {},
   "outputs": [],
   "source": [
    "lr = LinearRegression()"
   ]
  },
  {
   "cell_type": "code",
   "execution_count": 150,
   "metadata": {},
   "outputs": [
    {
     "data": {
      "text/plain": [
       "0.8740568578813115"
      ]
     },
     "execution_count": 150,
     "metadata": {},
     "output_type": "execute_result"
    }
   ],
   "source": [
    "lr.fit(xtrain_wt,ytrain_wt)\n",
    "predict = lr.predict(xtest_wt)\n",
    "lr.score(xtest_wt,ytest_wt)"
   ]
  },
  {
   "cell_type": "markdown",
   "metadata": {},
   "source": [
    "# scaling"
   ]
  },
  {
   "cell_type": "code",
   "execution_count": 151,
   "metadata": {},
   "outputs": [],
   "source": [
    "from sklearn.preprocessing import StandardScaler\n",
    "sc = StandardScaler()\n",
    "Xtrain_wt = sc.fit_transform(xtrain_wt)\n",
    "Xtest_wt = sc.fit_transform(xtest_wt)"
   ]
  },
  {
   "cell_type": "markdown",
   "metadata": {},
   "source": [
    "# Linear Regression after scaling"
   ]
  },
  {
   "cell_type": "code",
   "execution_count": 152,
   "metadata": {},
   "outputs": [
    {
     "data": {
      "text/plain": [
       "0.8535792249154659"
      ]
     },
     "execution_count": 152,
     "metadata": {},
     "output_type": "execute_result"
    }
   ],
   "source": [
    "lr.fit(Xtrain_wt,ytrain_wt)\n",
    "predict = lr.predict(Xtest_wt)\n",
    "lr.score(Xtest_wt,ytest_wt)"
   ]
  },
  {
   "cell_type": "code",
   "execution_count": 153,
   "metadata": {},
   "outputs": [],
   "source": [
    "X_wt = sc.fit_transform(x_wt)\n",
    "Y_wt = sc.transform(test_wt)"
   ]
  },
  {
   "cell_type": "code",
   "execution_count": 154,
   "metadata": {},
   "outputs": [],
   "source": [
    "X_wtm = sc.fit_transform(x_wtm)\n",
    "Y_wtm = sc.transform(test_wtm)"
   ]
  },
  {
   "cell_type": "code",
   "execution_count": 175,
   "metadata": {},
   "outputs": [],
   "source": [
    "#wt"
   ]
  },
  {
   "cell_type": "code",
   "execution_count": 157,
   "metadata": {},
   "outputs": [
    {
     "data": {
      "text/plain": [
       "489.1499447704112"
      ]
     },
     "execution_count": 157,
     "metadata": {},
     "output_type": "execute_result"
    }
   ],
   "source": [
    "from sklearn.tree import DecisionTreeRegressor\n",
    "from sklearn.metrics import mean_squared_error\n",
    "dt = DecisionTreeRegressor(criterion='mse',random_state = 1,max_depth=3, min_samples_leaf=5)\n",
    "\n",
    "dt.fit(Xtrain_wt, ytrain_wt)\n",
    "\n",
    "y_pred_d =dt.predict(Xtest_wt)\n",
    "\n",
    "mse_d=mean_squared_error(ytest_wt\n",
    "                         ,y_pred_d)\n",
    "\n",
    "rmse_d=np.sqrt(mse_d)\n",
    "\n",
    "rmse_d"
   ]
  },
  {
   "cell_type": "code",
   "execution_count": null,
   "metadata": {},
   "outputs": [],
   "source": [
    "#wtm"
   ]
  },
  {
   "cell_type": "code",
   "execution_count": 174,
   "metadata": {},
   "outputs": [
    {
     "data": {
      "text/plain": [
       "408.8452845106876"
      ]
     },
     "execution_count": 174,
     "metadata": {},
     "output_type": "execute_result"
    }
   ],
   "source": [
    "dt = DecisionTreeRegressor(criterion='mse',random_state = 1,max_depth=3, min_samples_leaf=5)\n",
    "\n",
    "dt.fit(xtrain_wtm, ytrain_wtm)\n",
    "\n",
    "y_pred_d =dt.predict(xtest_wtm)\n",
    "\n",
    "mse_d=mean_squared_error(ytest_wtm\n",
    "                         ,y_pred_d)\n",
    "\n",
    "rmse_d=np.sqrt(mse_d)\n",
    "\n",
    "rmse_d"
   ]
  },
  {
   "cell_type": "markdown",
   "metadata": {},
   "source": [
    "# RandomForestRegressor"
   ]
  },
  {
   "cell_type": "code",
   "execution_count": 167,
   "metadata": {},
   "outputs": [],
   "source": [
    "from sklearn.ensemble import RandomForestRegressor\n",
    "from sklearn.model_selection import GridSearchCV\n",
    "RF = RandomForestRegressor(random_state=1)"
   ]
  },
  {
   "cell_type": "code",
   "execution_count": 170,
   "metadata": {},
   "outputs": [
    {
     "data": {
      "text/plain": [
       "RandomForestRegressor(bootstrap=True, criterion='mse', max_depth=10,\n",
       "                      max_features='auto', max_leaf_nodes=None,\n",
       "                      min_impurity_decrease=0.0, min_impurity_split=None,\n",
       "                      min_samples_leaf=1, min_samples_split=5,\n",
       "                      min_weight_fraction_leaf=0.0, n_estimators=91,\n",
       "                      n_jobs=None, oob_score=False, random_state=1, verbose=0,\n",
       "                      warm_start=False)"
      ]
     },
     "execution_count": 170,
     "metadata": {},
     "output_type": "execute_result"
    }
   ],
   "source": [
    "param_grid = {'bootstrap': [True, False],\n",
    " 'max_depth': [10, 20, 30, 40, 50, 60, 70, 80, 90, 100, None],\n",
    " 'max_features': ['auto', 'sqrt'],\n",
    " 'min_samples_leaf': [1, 2, 4],\n",
    " 'min_samples_split': [2, 5, 10],\n",
    " 'n_estimators': np.arange(1,101,10)}\n",
    "RF_GSCV = GridSearchCV(RF,param_grid,cv=2)\n",
    "RF_GSCV.fit(Xtrain_wt,ytrain_wt)\n",
    "model = RF_GSCV.best_estimator_\n",
    "model.fit(Xtrain_wt,ytrain_wt)"
   ]
  },
  {
   "cell_type": "code",
   "execution_count": 173,
   "metadata": {},
   "outputs": [
    {
     "data": {
      "text/plain": [
       "448.4941792554019"
      ]
     },
     "execution_count": 173,
     "metadata": {},
     "output_type": "execute_result"
    }
   ],
   "source": [
    "\n",
    "y_pred_r = model.predict(Xtest_wt)\n",
    "mse_r=mean_squared_error(ytest_wt,y_pred_r)\n",
    "\n",
    "rmse_r=np.sqrt(mse_r)\n",
    "\n",
    "rmse_r"
   ]
  },
  {
   "cell_type": "code",
   "execution_count": 176,
   "metadata": {},
   "outputs": [
    {
     "data": {
      "text/plain": [
       "401.9201913796523"
      ]
     },
     "execution_count": 176,
     "metadata": {},
     "output_type": "execute_result"
    }
   ],
   "source": [
    "RF_GSCV.fit(xtrain_wtm,ytrain_wtm)\n",
    "model = RF_GSCV.best_estimator_\n",
    "model.fit(xtrain_wtm,ytrain_wtm)\n",
    "y_pred_r = model.predict(xtest_wtm)\n",
    "mse_r=mean_squared_error(ytest_wtm,y_pred_r)\n",
    "\n",
    "rmse_r=np.sqrt(mse_r)\n",
    "\n",
    "rmse_r"
   ]
  },
  {
   "cell_type": "markdown",
   "metadata": {},
   "source": [
    "# Adaboost"
   ]
  },
  {
   "cell_type": "code",
   "execution_count": 177,
   "metadata": {},
   "outputs": [],
   "source": [
    "from sklearn.ensemble import AdaBoostRegressor\n",
    "model=DecisionTreeRegressor()\n",
    "Adaboost=AdaBoostRegressor(base_estimator=model,n_estimators=100,learning_rate=1)\n",
    "model2=Adaboost.fit(xtrain_wtm,ytrain_wtm)\n"
   ]
  },
  {
   "cell_type": "code",
   "execution_count": 178,
   "metadata": {},
   "outputs": [
    {
     "data": {
      "text/plain": [
       "376.17960706847674"
      ]
     },
     "execution_count": 178,
     "metadata": {},
     "output_type": "execute_result"
    }
   ],
   "source": [
    "y_pred_ad = Adaboost.predict(xtest_wtm)\n",
    "\n",
    "mse_ad=mean_squared_error(ytest_wtm,y_pred_ad)\n",
    "\n",
    "rmse_ad=np.sqrt(mse_ad)\n",
    "\n",
    "rmse_ad"
   ]
  },
  {
   "cell_type": "markdown",
   "metadata": {},
   "source": [
    "# ExtraTreesRegressor"
   ]
  },
  {
   "cell_type": "code",
   "execution_count": 179,
   "metadata": {},
   "outputs": [
    {
     "name": "stderr",
     "output_type": "stream",
     "text": [
      "C:\\Users\\user\\Anaconda3\\lib\\site-packages\\sklearn\\ensemble\\forest.py:245: FutureWarning: The default value of n_estimators will change from 10 in version 0.20 to 100 in 0.22.\n",
      "  \"10 in version 0.20 to 100 in 0.22.\", FutureWarning)\n"
     ]
    },
    {
     "data": {
      "text/plain": [
       "416.548430132557"
      ]
     },
     "execution_count": 179,
     "metadata": {},
     "output_type": "execute_result"
    }
   ],
   "source": [
    "from sklearn.ensemble import ExtraTreesRegressor\n",
    "\n",
    "ec = ExtraTreesRegressor(criterion='mse',random_state = 1,max_depth=3, min_samples_leaf=5)\n",
    "\n",
    "ec.fit(xtrain_wtm, ytrain_wtm)\n",
    "\n",
    "y_pred_ec =ec.predict(xtest_wtm)\n",
    "\n",
    "mse_ec=mean_squared_error(ytest_wtm,y_pred_ec)\n",
    "\n",
    "rmse_ec=np.sqrt(mse_ec)\n",
    "\n",
    "rmse_ec"
   ]
  },
  {
   "cell_type": "markdown",
   "metadata": {},
   "source": [
    "----------------------\n",
    "Among above all the models, I got best RMSE for Adaboost in Hackathon"
   ]
  }
 ],
 "metadata": {
  "kernelspec": {
   "display_name": "Python 3",
   "language": "python",
   "name": "python3"
  },
  "language_info": {
   "codemirror_mode": {
    "name": "ipython",
    "version": 3
   },
   "file_extension": ".py",
   "mimetype": "text/x-python",
   "name": "python",
   "nbconvert_exporter": "python",
   "pygments_lexer": "ipython3",
   "version": "3.7.4"
  }
 },
 "nbformat": 4,
 "nbformat_minor": 2
}
